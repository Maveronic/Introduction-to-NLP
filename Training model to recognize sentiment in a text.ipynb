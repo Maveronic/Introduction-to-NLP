{
 "cells": [
  {
   "cell_type": "code",
   "execution_count": 9,
   "id": "initial_id",
   "metadata": {
    "collapsed": true,
    "ExecuteTime": {
     "end_time": "2023-08-06T19:26:02.131540500Z",
     "start_time": "2023-08-06T19:26:02.106502Z"
    }
   },
   "outputs": [],
   "source": [
    "import tensorflow as tf\n",
    "from tensorflow import keras\n",
    "from tensorflow.keras.preprocessing.text import Tokenizer\n",
    "from tensorflow.keras.preprocessing.sequence import pad_sequences\n",
    "import json\n",
    "import matplotlib.pyplot as plt"
   ]
  },
  {
   "cell_type": "code",
   "execution_count": 10,
   "outputs": [],
   "source": [
    "vocab_size = 10000 # Serves as a word frequency list for a certain amount of values- in the case, 10000\n",
    "embedding_dim = 16\n",
    "max_length = 100\n",
    "trunc_type = 'post'\n",
    "padding_type = 'post' # This is used to ensure that all words are of equal tokenized length by appending zero to the back since post method is used\n",
    "oov_tok = \"<OOV>\" # Serves as a filler adding the value, one to make up for words not tokenized\n",
    "training_size = 20000 # This is the amount of data which has be divided, required to be used to train the model"
   ],
   "metadata": {
    "collapsed": false,
    "ExecuteTime": {
     "end_time": "2023-08-06T19:26:03.165645500Z",
     "start_time": "2023-08-06T19:26:03.148081400Z"
    }
   },
   "id": "f477f8fbeb193bd8"
  },
  {
   "cell_type": "code",
   "execution_count": 11,
   "outputs": [],
   "source": [
    "# Deserialize the JSON file\n",
    "with open('sarcasm.json', 'r') as f:\n",
    "    datastore = json.load(f)\n",
    "\n",
    "    sentences = []\n",
    "    labels = []\n",
    "\n",
    "    for item in datastore:\n",
    "        sentences.append(item['headline'])\n",
    "        labels.append(item['is_sarcastic'])"
   ],
   "metadata": {
    "collapsed": false,
    "ExecuteTime": {
     "end_time": "2023-08-06T19:26:03.602673600Z",
     "start_time": "2023-08-06T19:26:03.525621500Z"
    }
   },
   "id": "aeb70a72b15201a7"
  },
  {
   "cell_type": "code",
   "execution_count": 12,
   "outputs": [],
   "source": [
    "# Divide the data into two sets - one for training and the other for testing\n",
    "training_sentences = sentences[0:training_size]\n",
    "testing_sentences = sentences[training_size:]\n",
    "training_labels = labels[0:training_size]\n",
    "testing_labels = labels[training_size:]"
   ],
   "metadata": {
    "collapsed": false,
    "ExecuteTime": {
     "end_time": "2023-08-06T19:26:04.342556600Z",
     "start_time": "2023-08-06T19:26:04.331514200Z"
    }
   },
   "id": "eff3cfa47944af74"
  },
  {
   "cell_type": "code",
   "execution_count": 13,
   "outputs": [],
   "source": [
    "# Initialize an object from the Tokenizer class which would be used to tokenize each word\n",
    "tokenizer = Tokenizer(num_words=vocab_size, oov_token=oov_tok)\n",
    "tokenizer.fit_on_texts(training_sentences)\n",
    "word_index = tokenizer.word_index\n",
    "\n",
    "training_sequences = tokenizer.texts_to_sequences(training_sentences)\n",
    "training_padded = pad_sequences(training_sequences, maxlen=max_length, padding=padding_type, truncating=trunc_type)\n",
    "\n",
    "testing_sequences = tokenizer.texts_to_sequences(testing_sentences)\n",
    "testing_padded = pad_sequences(testing_sequences, maxlen=max_length, padding=padding_type, truncating=trunc_type)"
   ],
   "metadata": {
    "collapsed": false,
    "ExecuteTime": {
     "end_time": "2023-08-06T19:26:05.512534800Z",
     "start_time": "2023-08-06T19:26:04.685099300Z"
    }
   },
   "id": "a6901e0317af2eea"
  },
  {
   "cell_type": "code",
   "execution_count": 15,
   "outputs": [],
   "source": [
    "# This piece of code is added to get everything to work in TensorFlow 2.x\n",
    "import numpy as np\n",
    "\n",
    "training_padded = np.array(training_padded)\n",
    "training_labels = np.array(training_labels)\n",
    "testing_padded = np.array(testing_padded)\n",
    "testing_labels = np.array(testing_labels)"
   ],
   "metadata": {
    "collapsed": false,
    "ExecuteTime": {
     "end_time": "2023-08-06T19:29:34.409158200Z",
     "start_time": "2023-08-06T19:29:34.394114500Z"
    }
   },
   "id": "d2ea9e01bd5658db"
  },
  {
   "cell_type": "code",
   "execution_count": 16,
   "outputs": [],
   "source": [
    "model = tf.keras.Sequential([\n",
    "    tf.keras.layers.Embedding(vocab_size, embedding_dim, input_length=max_length),\n",
    "    tf.keras.layers.GlobalMaxPool1D(),\n",
    "    tf.keras.layers.Dense(24, activation='relu'),\n",
    "    tf.keras.layers.Dense(1, activation='sigmoid')\n",
    "])\n",
    "model.compile(loss='binary_crossentropy', optimizer='adam', metrics=['accuracy'])"
   ],
   "metadata": {
    "collapsed": false,
    "ExecuteTime": {
     "end_time": "2023-08-06T19:32:28.797099Z",
     "start_time": "2023-08-06T19:32:28.363164600Z"
    }
   },
   "id": "d0e90f71a217d60f"
  },
  {
   "cell_type": "code",
   "execution_count": 17,
   "outputs": [
    {
     "name": "stdout",
     "output_type": "stream",
     "text": [
      "Model: \"sequential\"\n",
      "_________________________________________________________________\n",
      " Layer (type)                Output Shape              Param #   \n",
      "=================================================================\n",
      " embedding (Embedding)       (None, 100, 16)           160000    \n",
      "                                                                 \n",
      " global_max_pooling1d (Glob  (None, 16)                0         \n",
      " alMaxPooling1D)                                                 \n",
      "                                                                 \n",
      " dense (Dense)               (None, 24)                408       \n",
      "                                                                 \n",
      " dense_1 (Dense)             (None, 1)                 25        \n",
      "                                                                 \n",
      "=================================================================\n",
      "Total params: 160433 (626.69 KB)\n",
      "Trainable params: 160433 (626.69 KB)\n",
      "Non-trainable params: 0 (0.00 Byte)\n",
      "_________________________________________________________________\n"
     ]
    }
   ],
   "source": [
    "model.summary()"
   ],
   "metadata": {
    "collapsed": false,
    "ExecuteTime": {
     "end_time": "2023-08-06T19:32:33.154872Z",
     "start_time": "2023-08-06T19:32:33.079274400Z"
    }
   },
   "id": "649d696e28bb6b6"
  },
  {
   "cell_type": "code",
   "execution_count": 18,
   "outputs": [
    {
     "name": "stdout",
     "output_type": "stream",
     "text": [
      "Epoch 1/30\n",
      "625/625 - 3s - loss: 0.5106 - accuracy: 0.7476 - val_loss: 0.3883 - val_accuracy: 0.8304 - 3s/epoch - 5ms/step\n",
      "Epoch 2/30\n",
      "625/625 - 2s - loss: 0.2748 - accuracy: 0.8904 - val_loss: 0.3596 - val_accuracy: 0.8436 - 2s/epoch - 3ms/step\n",
      "Epoch 3/30\n",
      "625/625 - 2s - loss: 0.1602 - accuracy: 0.9417 - val_loss: 0.3918 - val_accuracy: 0.8423 - 2s/epoch - 3ms/step\n",
      "Epoch 4/30\n",
      "625/625 - 2s - loss: 0.0919 - accuracy: 0.9696 - val_loss: 0.4576 - val_accuracy: 0.8396 - 2s/epoch - 3ms/step\n",
      "Epoch 5/30\n",
      "625/625 - 2s - loss: 0.0497 - accuracy: 0.9858 - val_loss: 0.5189 - val_accuracy: 0.8372 - 2s/epoch - 3ms/step\n",
      "Epoch 6/30\n",
      "625/625 - 2s - loss: 0.0244 - accuracy: 0.9943 - val_loss: 0.5946 - val_accuracy: 0.8350 - 2s/epoch - 3ms/step\n",
      "Epoch 7/30\n",
      "625/625 - 2s - loss: 0.0118 - accuracy: 0.9982 - val_loss: 0.6600 - val_accuracy: 0.8371 - 2s/epoch - 3ms/step\n",
      "Epoch 8/30\n",
      "625/625 - 2s - loss: 0.0060 - accuracy: 0.9992 - val_loss: 0.7211 - val_accuracy: 0.8346 - 2s/epoch - 3ms/step\n",
      "Epoch 9/30\n",
      "625/625 - 2s - loss: 0.0033 - accuracy: 0.9995 - val_loss: 0.7724 - val_accuracy: 0.8359 - 2s/epoch - 3ms/step\n",
      "Epoch 10/30\n",
      "625/625 - 2s - loss: 0.0021 - accuracy: 0.9996 - val_loss: 0.8169 - val_accuracy: 0.8344 - 2s/epoch - 3ms/step\n",
      "Epoch 11/30\n",
      "625/625 - 2s - loss: 0.0014 - accuracy: 0.9997 - val_loss: 0.8575 - val_accuracy: 0.8357 - 2s/epoch - 3ms/step\n",
      "Epoch 12/30\n",
      "625/625 - 2s - loss: 9.5680e-04 - accuracy: 0.9997 - val_loss: 0.8968 - val_accuracy: 0.8347 - 2s/epoch - 3ms/step\n",
      "Epoch 13/30\n",
      "625/625 - 2s - loss: 7.7518e-04 - accuracy: 0.9997 - val_loss: 0.9349 - val_accuracy: 0.8340 - 2s/epoch - 3ms/step\n",
      "Epoch 14/30\n",
      "625/625 - 2s - loss: 7.0456e-04 - accuracy: 0.9998 - val_loss: 0.9729 - val_accuracy: 0.8340 - 2s/epoch - 3ms/step\n",
      "Epoch 15/30\n",
      "625/625 - 2s - loss: 5.5846e-04 - accuracy: 0.9998 - val_loss: 1.0127 - val_accuracy: 0.8334 - 2s/epoch - 3ms/step\n",
      "Epoch 16/30\n",
      "625/625 - 2s - loss: 5.0253e-04 - accuracy: 0.9998 - val_loss: 1.0497 - val_accuracy: 0.8331 - 2s/epoch - 3ms/step\n",
      "Epoch 17/30\n",
      "625/625 - 2s - loss: 4.7380e-04 - accuracy: 0.9997 - val_loss: 1.0856 - val_accuracy: 0.8319 - 2s/epoch - 3ms/step\n",
      "Epoch 18/30\n",
      "625/625 - 2s - loss: 4.4796e-04 - accuracy: 0.9998 - val_loss: 1.1225 - val_accuracy: 0.8322 - 2s/epoch - 3ms/step\n",
      "Epoch 19/30\n",
      "625/625 - 2s - loss: 7.1957e-04 - accuracy: 0.9996 - val_loss: 1.1470 - val_accuracy: 0.8322 - 2s/epoch - 3ms/step\n",
      "Epoch 20/30\n",
      "625/625 - 2s - loss: 4.9163e-04 - accuracy: 0.9997 - val_loss: 1.1797 - val_accuracy: 0.8311 - 2s/epoch - 3ms/step\n",
      "Epoch 21/30\n",
      "625/625 - 2s - loss: 4.1600e-04 - accuracy: 0.9997 - val_loss: 1.2028 - val_accuracy: 0.8335 - 2s/epoch - 3ms/step\n",
      "Epoch 22/30\n",
      "625/625 - 2s - loss: 5.9199e-04 - accuracy: 0.9998 - val_loss: 1.2198 - val_accuracy: 0.8351 - 2s/epoch - 3ms/step\n",
      "Epoch 23/30\n",
      "625/625 - 2s - loss: 4.3561e-04 - accuracy: 0.9995 - val_loss: 1.2617 - val_accuracy: 0.8331 - 2s/epoch - 3ms/step\n",
      "Epoch 24/30\n",
      "625/625 - 2s - loss: 4.0067e-04 - accuracy: 0.9997 - val_loss: 1.2910 - val_accuracy: 0.8328 - 2s/epoch - 3ms/step\n",
      "Epoch 25/30\n",
      "625/625 - 2s - loss: 3.9140e-04 - accuracy: 0.9997 - val_loss: 1.3147 - val_accuracy: 0.8313 - 2s/epoch - 3ms/step\n",
      "Epoch 26/30\n",
      "625/625 - 2s - loss: 3.8806e-04 - accuracy: 0.9998 - val_loss: 1.3369 - val_accuracy: 0.8325 - 2s/epoch - 3ms/step\n",
      "Epoch 27/30\n",
      "625/625 - 2s - loss: 3.8599e-04 - accuracy: 0.9998 - val_loss: 1.3582 - val_accuracy: 0.8320 - 2s/epoch - 3ms/step\n",
      "Epoch 28/30\n",
      "625/625 - 2s - loss: 3.8467e-04 - accuracy: 0.9998 - val_loss: 1.3804 - val_accuracy: 0.8317 - 2s/epoch - 3ms/step\n",
      "Epoch 29/30\n",
      "625/625 - 2s - loss: 3.8390e-04 - accuracy: 0.9998 - val_loss: 1.4057 - val_accuracy: 0.8328 - 2s/epoch - 3ms/step\n",
      "Epoch 30/30\n",
      "625/625 - 2s - loss: 3.8733e-04 - accuracy: 0.9998 - val_loss: 1.4306 - val_accuracy: 0.8329 - 2s/epoch - 3ms/step\n"
     ]
    }
   ],
   "source": [
    "num_epochs = 30\n",
    "history = model.fit(training_padded, training_labels, epochs=num_epochs,\n",
    "                    validation_data=(testing_padded, testing_labels), verbose=2)"
   ],
   "metadata": {
    "collapsed": false,
    "ExecuteTime": {
     "end_time": "2023-08-06T19:35:08.755642800Z",
     "start_time": "2023-08-06T19:34:14.547780Z"
    }
   },
   "id": "1f9c0f0e7d64a7cc"
  },
  {
   "cell_type": "code",
   "execution_count": 20,
   "outputs": [
    {
     "name": "stderr",
     "output_type": "stream",
     "text": [
      "C:\\Users\\Asus\\AppData\\Local\\Temp\\ipykernel_12880\\4048343914.py:6: UserWarning: The handle 'u' has a label of '_' which cannot be automatically added to the legend.\n",
      "  plt.legend(string, 'val_'+string)\n",
      "C:\\Users\\Asus\\AppData\\Local\\Temp\\ipykernel_12880\\4048343914.py:6: UserWarning: Legend does not support 'a' instances.\n",
      "A proxy artist may be used instead.\n",
      "See: https://matplotlib.org/users/legend_guide.html#creating-artists-specifically-for-adding-to-the-legend-aka-proxy-artists\n",
      "  plt.legend(string, 'val_'+string)\n",
      "C:\\Users\\Asus\\AppData\\Local\\Temp\\ipykernel_12880\\4048343914.py:6: UserWarning: Legend does not support 'c' instances.\n",
      "A proxy artist may be used instead.\n",
      "See: https://matplotlib.org/users/legend_guide.html#creating-artists-specifically-for-adding-to-the-legend-aka-proxy-artists\n",
      "  plt.legend(string, 'val_'+string)\n",
      "C:\\Users\\Asus\\AppData\\Local\\Temp\\ipykernel_12880\\4048343914.py:6: UserWarning: Legend does not support 'r' instances.\n",
      "A proxy artist may be used instead.\n",
      "See: https://matplotlib.org/users/legend_guide.html#creating-artists-specifically-for-adding-to-the-legend-aka-proxy-artists\n",
      "  plt.legend(string, 'val_'+string)\n",
      "C:\\Users\\Asus\\AppData\\Local\\Temp\\ipykernel_12880\\4048343914.py:6: UserWarning: Legend does not support 'y' instances.\n",
      "A proxy artist may be used instead.\n",
      "See: https://matplotlib.org/users/legend_guide.html#creating-artists-specifically-for-adding-to-the-legend-aka-proxy-artists\n",
      "  plt.legend(string, 'val_'+string)\n"
     ]
    },
    {
     "data": {
      "text/plain": "<Figure size 432x288 with 1 Axes>",
      "image/png": "[encoded data removed]"
     },
     "metadata": {
      "needs_background": "light"
     },
     "output_type": "display_data"
    },
    {
     "name": "stderr",
     "output_type": "stream",
     "text": [
      "C:\\Users\\Asus\\AppData\\Local\\Temp\\ipykernel_12880\\4048343914.py:6: UserWarning: The handle 's' has a label of '_' which cannot be automatically added to the legend.\n",
      "  plt.legend(string, 'val_'+string)\n",
      "C:\\Users\\Asus\\AppData\\Local\\Temp\\ipykernel_12880\\4048343914.py:6: UserWarning: Legend does not support 'l' instances.\n",
      "A proxy artist may be used instead.\n",
      "See: https://matplotlib.org/users/legend_guide.html#creating-artists-specifically-for-adding-to-the-legend-aka-proxy-artists\n",
      "  plt.legend(string, 'val_'+string)\n",
      "C:\\Users\\Asus\\AppData\\Local\\Temp\\ipykernel_12880\\4048343914.py:6: UserWarning: Legend does not support 'o' instances.\n",
      "A proxy artist may be used instead.\n",
      "See: https://matplotlib.org/users/legend_guide.html#creating-artists-specifically-for-adding-to-the-legend-aka-proxy-artists\n",
      "  plt.legend(string, 'val_'+string)\n",
      "C:\\Users\\Asus\\AppData\\Local\\Temp\\ipykernel_12880\\4048343914.py:6: UserWarning: Legend does not support 's' instances.\n",
      "A proxy artist may be used instead.\n",
      "See: https://matplotlib.org/users/legend_guide.html#creating-artists-specifically-for-adding-to-the-legend-aka-proxy-artists\n",
      "  plt.legend(string, 'val_'+string)\n"
     ]
    },
    {
     "data": {
      "text/plain": "<Figure size 432x288 with 1 Axes>",
      "image/png": "[encoded data removed]"
     },
     "metadata": {
      "needs_background": "light"
     },
     "output_type": "display_data"
    }
   ],
   "source": [
    "# A graph showing the metrics of the model created\n",
    "def plot_graphs(history, string):\n",
    "    plt.plot(history.history[string])\n",
    "    plt.plot(history.history['val_'+string])\n",
    "    plt.xlabel(\"Epochs\")\n",
    "    plt.ylabel(string)\n",
    "    plt.legend(string, 'val_'+string)\n",
    "    plt.show()\n",
    "    \n",
    "plot_graphs(history, 'accuracy')\n",
    "plot_graphs(history, 'loss')"
   ],
   "metadata": {
    "collapsed": false,
    "ExecuteTime": {
     "end_time": "2023-08-06T19:38:18.551993400Z",
     "start_time": "2023-08-06T19:38:18.244833700Z"
    }
   },
   "id": "417c0233e0794ab2"
  },
  {
   "cell_type": "code",
   "execution_count": 25,
   "outputs": [
    {
     "name": "stdout",
     "output_type": "stream",
     "text": [
      "1/1 [==============================] - 0s 21ms/step\n",
      "[[9.9948949e-01]\n",
      " [8.2700340e-11]\n",
      " [4.9675957e-05]]\n"
     ]
    }
   ],
   "source": [
    "# To test the model, I will be making use of custom inputs for evaluation\n",
    "sentence = [\n",
    "    'granny starting to fear spiders in the garden might be real',\n",
    "    'the weather is bright and sunny',\n",
    "    'i now pluck money from trees'\n",
    "]\n",
    "\n",
    "sequences = tokenizer.texts_to_sequences(sentence)\n",
    "padded_sentence = pad_sequences(sequences, maxlen=max_length, truncating=trunc_type, padding=padding_type)\n",
    "\n",
    "print(model.predict(padded_sentence))"
   ],
   "metadata": {
    "collapsed": false,
    "ExecuteTime": {
     "end_time": "2023-08-06T19:54:59.424072900Z",
     "start_time": "2023-08-06T19:54:59.325157400Z"
    }
   },
   "id": "26a0b2ff7f736d3"
  }
 ],
 "metadata": {
  "kernelspec": {
   "display_name": "Python 3",
   "language": "python",
   "name": "python3"
  },
  "language_info": {
   "codemirror_mode": {
    "name": "ipython",
    "version": 2
   },
   "file_extension": ".py",
   "mimetype": "text/x-python",
   "name": "python",
   "nbconvert_exporter": "python",
   "pygments_lexer": "ipython2",
   "version": "2.7.6"
  }
 },
 "nbformat": 4,
 "nbformat_minor": 5
}
